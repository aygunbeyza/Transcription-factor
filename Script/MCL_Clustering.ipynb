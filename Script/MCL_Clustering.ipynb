{
 "cells": [
  {
   "cell_type": "code",
   "execution_count": null,
   "metadata": {},
   "outputs": [],
   "source": [
    "import markov_clustering as mc\n",
    "import networkx as nx\n",
    "import pandas as pd\n",
    "import numpy as np\n",
    "import matplotlib.pyplot as plt\n",
    "import random\n",
    "import seaborn as sns\n",
    "\n",
    "from networkx.algorithms import community as nx_comm"
   ]
  },
  {
   "cell_type": "code",
   "execution_count": null,
   "metadata": {},
   "outputs": [],
   "source": [
    "# Read the similarity matrix from the CSV file\n",
    "dist = pd.read_csv(\"file.csv\", index_col = 0)\n",
    "#sena = 1 - dist\n",
    "simil = 1 - dist\n",
    "simil.describe()"
   ]
  },
  {
   "cell_type": "code",
   "execution_count": null,
   "metadata": {},
   "outputs": [],
   "source": [
    "max(simil.describe().loc[\"50%\"])"
   ]
  },
  {
   "cell_type": "code",
   "execution_count": null,
   "metadata": {},
   "outputs": [],
   "source": [
    "simil_sparse = (simil - 0.59).clip(lower = 0.)\n",
    "\n",
    "simil_sparse_array = np.asarray(simil_sparse)\n",
    "np.fill_diagonal(simil_sparse_array, 0)\n",
    "print(simil_sparse_array)"
   ]
  },
  {
   "cell_type": "code",
   "execution_count": null,
   "metadata": {},
   "outputs": [],
   "source": [
    "# Create the network graph\n",
    "network = nx.from_numpy_array(simil_sparse_array)\n",
    "\n",
    "# Get the node names\n",
    "node_names = list(simil_sparse.index)\n",
    "\n",
    "# Get the adjacency matrix\n",
    "#matrix = nx.to_numpy_array(network)\n",
    "matrix = nx.to_scipy_sparse_array(network)\n"
   ]
  },
  {
   "cell_type": "code",
   "execution_count": null,
   "metadata": {},
   "outputs": [],
   "source": [
    "\n",
    "\n",
    "# Define a range of inflation values to loop through\n",
    "inflation_values = np.arange(1.5, 2.6, 0.1)\n",
    "\n",
    "# Loop through inflation values and calculate modularity\n",
    "for inflation in inflation_values:\n",
    "    result = mc.run_mcl(matrix, inflation=inflation, expansion=4)\n",
    "    clusters = mc.get_clusters(result)\n",
    "    modularity = nx_comm.modularity(network, clusters)\n",
    "    print(f\"Inflation: {inflation}, Modularity: {modularity}\")"
   ]
  },
  {
   "cell_type": "code",
   "execution_count": null,
   "metadata": {},
   "outputs": [],
   "source": [
    "# Apply Markov Clustering\n",
    "result = mc.run_mcl(matrix, inflation=2.6, expansion=2)\n",
    "clusters = mc.get_clusters(result)\n",
    "\n",
    "modularity = nx_comm.modularity(network, clusters)\n",
    "print(f\"Modularity: {modularity}\")\n",
    "\n",
    "# Create a dictionary to store nodes and their corresponding clusters\n",
    "node_cluster_dict = {}\n",
    "for cluster_id, cluster in enumerate(clusters):\n",
    "    for node_idx in cluster:\n",
    "        node_name = node_names[node_idx]\n",
    "        node_cluster_dict[node_name] = cluster_id\n",
    "\n",
    "# Define positions for nodes (example positions, you can modify this)\n",
    "#pos = nx.spring_layout(network)  # You can use other layout algorithms\n",
    "#pos = nx.fruchterman_reingold_layout(network, k=2)\n",
    "#pos = nx.kamada_kawai_layout(network)\n",
    "pos = nx.fruchterman_reingold_layout(network)\n",
    "\n",
    "\n",
    "# Draw the graph with specified positions\n",
    "mc.draw_graph(matrix, clusters, pos=pos, node_size=15, with_labels=False, edge_color=\"silver\")\n",
    "\n",
    "# Print node names and their clusters\n",
    "for node_name, cluster_id in node_cluster_dict.items():\n",
    "    print(f\"Node: {node_name}, Cluster: {cluster_id}\")\n",
    "\n",
    "plt.show()\n",
    "\n"
   ]
  },
  {
   "cell_type": "code",
   "execution_count": null,
   "metadata": {},
   "outputs": [],
   "source": [
    "\n",
    "# Create a heatmap using seaborn\n",
    "plt.figure(figsize=(10, 8))\n",
    "sns.clustermap(matrix, cmap=\"coolwarm\", xticklabels=node_names, yticklabels=node_names)\n",
    "plt.xlabel(\"Nodes\")\n",
    "plt.ylabel(\"Nodes\")\n",
    "plt.title(\"Matrix Heatmap\")\n",
    "\n",
    "plt.show()\n"
   ]
  },
  {
   "cell_type": "code",
   "execution_count": null,
   "metadata": {},
   "outputs": [],
   "source": [
    "# Create a DataFrame with cluster labels as rows\n",
    "cluster_df = pd.DataFrame.from_dict(node_cluster_dict, orient='index', columns=['Cluster'])\n",
    "\n",
    "# Create a figure and axis for the heatmap\n",
    "plt.figure(figsize=(200, 200))\n",
    "\n",
    "# Plot the heatmap with cluster labels on the y-axis\n",
    "sns.heatmap(df_with_clusters)\n",
    "\n",
    "plt.show()"
   ]
  },
  {
   "cell_type": "code",
   "execution_count": null,
   "metadata": {},
   "outputs": [],
   "source": [
    "#########for dist\n",
    "\n",
    "# Create a DataFrame with cluster labels as rows\n",
    "cluster_df = pd.DataFrame.from_dict(node_cluster_dict, orient='index', columns=[\"Cluster\"])\n",
    "df_with_clusters = pd.merge(dist, cluster_df, left_index=True, right_index=True, how=\"outer\")\n",
    "df_with_clusters = df_with_clusters.sort_values(by=\"Cluster\")\n",
    "df_with_clusters = df_with_clusters.reindex(list(df_with_clusters.index), axis=1)\n",
    "\n",
    "# Create a color palette for clusters\n",
    "cluster_palette = sns.color_palette(\"Set1\", n_colors=len(cluster_df[\"Cluster\"].unique()))\n",
    "\n",
    "# Create a colormap mapping cluster labels to colors\n",
    "cluster_colors = {label: color for label, color in zip(cluster_df[\"Cluster\"].unique(), cluster_palette)}\n",
    "\n",
    "# Map cluster labels to colors for each row in the DataFrame\n",
    "row_colors = cluster_df[\"Cluster\"].map(cluster_colors)\n",
    "\n",
    "# Create a figure and axis for the heatmap\n",
    "plt.figure(figsize=(200,200))  # Adjust the size as needed\n",
    "\n",
    "# Plot the heatmap with row_colors\n",
    "ax = sns.heatmap(df_with_clusters)\n",
    "ax.tick_params(axis='y', which='major', pad=20, length=0)\n",
    "#ax.set_yticklabels(cluster_df[\"Cluster\"], rotation=0)\n",
    "for i, color in enumerate(row_colors):\n",
    "    ax.add_patch(plt.Rectangle(xy=(-0.05, i), width=0.05, height=1, color=color, lw=0,\n",
    "                               transform=ax.get_yaxis_transform(), clip_on=False))\n",
    "\n",
    "plt.tight_layout()\n",
    "plt.savefig('heatmap_dist.png', format='png')\n",
    "plt.show()\n"
   ]
  },
  {
   "cell_type": "code",
   "execution_count": null,
   "metadata": {},
   "outputs": [],
   "source": [
    "########### for result\n",
    "\n",
    "\n",
    "# Create a DataFrame with cluster labels as rows\n",
    "df = pd.DataFrame(result,  index=node_names, columns=node_names)\n",
    "cluster_df = pd.DataFrame.from_dict(node_cluster_dict, orient='index', columns=[\"Cluster\"])\n",
    "df_with_clusters = pd.merge(df, cluster_df, left_index=True, right_index=True, how=\"outer\")\n",
    "df_with_clusters = df_with_clusters.sort_values(by=\"Cluster\")\n",
    "df_with_clusters = df_with_clusters.reindex(list(df_with_clusters.index), axis=1)\n",
    "\n",
    "# Create a color palette for clusters\n",
    "cluster_palette = sns.color_palette(\"Set1\", n_colors=len(cluster_df[\"Cluster\"].unique()))\n",
    "\n",
    "# Create a colormap mapping cluster labels to colors\n",
    "cluster_colors = {label: color for label, color in zip(cluster_df[\"Cluster\"].unique(), cluster_palette)}\n",
    "\n",
    "# Map cluster labels to colors for each row in the DataFrame\n",
    "row_colors = cluster_df[\"Cluster\"].map(cluster_colors)\n",
    "\n",
    "# Create a figure and axis for the heatmap\n",
    "plt.figure(figsize=(200,200))  # Adjust the size as needed\n",
    "\n",
    "# Plot the heatmap with row_colors\n",
    "ax = sns.heatmap(df_with_clusters)\n",
    "ax.tick_params(axis='y', which='major', pad=20, length=0)\n",
    "#ax.set_yticklabels(cluster_df[\"Cluster\"], rotation=0)\n",
    "for i, color in enumerate(row_colors):\n",
    "    ax.add_patch(plt.Rectangle(xy=(-0.05, i), width=0.05, height=1, color=color, lw=0,\n",
    "                               transform=ax.get_yaxis_transform(), clip_on=False))\n",
    "\n",
    "plt.tight_layout()\n",
    "plt.savefig('heatmap_result.png', format='png')\n",
    "plt.show()\n",
    "\n"
   ]
  },
  {
   "cell_type": "code",
   "execution_count": null,
   "metadata": {},
   "outputs": [],
   "source": [
    "########### for simil\n",
    "\n",
    "\n",
    "# Create a DataFrame with cluster labels as rows\n",
    "df2 = pd.DataFrame(simil_sparse_array,  index=node_names, columns=node_names)\n",
    "cluster_df = pd.DataFrame.from_dict(node_cluster_dict, orient='index', columns=[\"Cluster\"])\n",
    "df_with_clusters = pd.merge(df2, cluster_df, left_index=True, right_index=True, how=\"outer\")\n",
    "df_with_clusters = df_with_clusters.sort_values(by=\"Cluster\")\n",
    "df_with_clusters = df_with_clusters.reindex(list(df_with_clusters.index), axis=1)\n",
    "\n",
    "# Create a color palette for clusters\n",
    "cluster_palette = sns.color_palette(\"Set1\", n_colors=len(cluster_df[\"Cluster\"].unique()))\n",
    "\n",
    "# Create a colormap mapping cluster labels to colors\n",
    "cluster_colors = {label: color for label, color in zip(cluster_df[\"Cluster\"].unique(), cluster_palette)}\n",
    "\n",
    "# Map cluster labels to colors for each row in the DataFrame\n",
    "row_colors = cluster_df[\"Cluster\"].map(cluster_colors)\n",
    "\n",
    "# Create a figure and axis for the heatmap\n",
    "plt.figure(figsize=(200,200))  # Adjust the size as needed\n",
    "\n",
    "# Plot the heatmap with row_colors\n",
    "ax = sns.heatmap(df_with_clusters)\n",
    "ax.tick_params(axis='y', which='major', pad=20, length=0)\n",
    "#ax.set_yticklabels(cluster_df[\"Cluster\"], rotation=0)\n",
    "for i, color in enumerate(row_colors):\n",
    "    ax.add_patch(plt.Rectangle(xy=(-0.05, i), width=0.05, height=1, color=color, lw=0,\n",
    "                               transform=ax.get_yaxis_transform(), clip_on=False))\n",
    "\n",
    "plt.tight_layout()\n",
    "plt.savefig('heatmap_simil_sparse_array.png', format='png')\n",
    "plt.show()\n",
    "\n"
   ]
  }
 ],
 "metadata": {
  "kernelspec": {
   "display_name": "seaborn",
   "language": "python",
   "name": "seaborn"
  },
  "language_info": {
   "codemirror_mode": {
    "name": "ipython",
    "version": 3
   },
   "file_extension": ".py",
   "mimetype": "text/x-python",
   "name": "python",
   "nbconvert_exporter": "python",
   "pygments_lexer": "ipython3",
   "version": "3.10.4"
  }
 },
 "nbformat": 4,
 "nbformat_minor": 2
}
